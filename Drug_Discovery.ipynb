{
  "cells": [
    {
      "cell_type": "markdown",
      "metadata": {
        "id": "view-in-github",
        "colab_type": "text"
      },
      "source": [
        "<a href=\"https://colab.research.google.com/github/buffyhridoy/drug_discovery/blob/main/Drug_Discovery.ipynb\" target=\"_parent\"><img src=\"https://colab.research.google.com/assets/colab-badge.svg\" alt=\"Open In Colab\"/></a>"
      ]
    },
    {
      "cell_type": "markdown",
      "metadata": {
        "id": "iryGAwAIQ4yf"
      },
      "source": [
        "## Installing libraries"
      ]
    },
    {
      "cell_type": "markdown",
      "metadata": {
        "id": "toGT1U_B7F2i"
      },
      "source": [
        "Install the ChEMBL web service package so that we can retrieve bioactivity data from the ChEMBL Database."
      ]
    },
    {
      "cell_type": "code",
      "execution_count": null,
      "metadata": {
        "id": "cJGExHQBfLh7"
      },
      "outputs": [],
      "source": [
        "! pip install chembl_webresource_client\n"
      ]
    },
    {
      "cell_type": "code",
      "source": [
        "! pip install rdkit"
      ],
      "metadata": {
        "id": "7pFmQftdQuqF"
      },
      "execution_count": null,
      "outputs": []
    },
    {
      "cell_type": "markdown",
      "metadata": {
        "id": "J0kJjL8gb5nX"
      },
      "source": [
        "## Importing libraries"
      ]
    },
    {
      "cell_type": "code",
      "execution_count": null,
      "metadata": {
        "id": "RXoCvMPPfNrv"
      },
      "outputs": [],
      "source": [
        "import pandas as pd\n",
        "import numpy as np\n",
        "from rdkit import Chem\n",
        "from rdkit.Chem import Descriptors, Lipinski\n",
        "from rdkit.Chem.MolStandardize import rdMolStandardize\n",
        "from chembl_webresource_client.new_client import new_client\n",
        "from numpy.random import seed\n",
        "from numpy.random import randn\n",
        "from scipy.stats import mannwhitneyu\n",
        "import seaborn as sns\n",
        "from IPython.display import display\n",
        "import matplotlib.pyplot as plt"
      ]
    },
    {
      "cell_type": "markdown",
      "metadata": {
        "id": "1FgUai1bfigC"
      },
      "source": [
        "## Search for Target ABL kinase protein"
      ]
    },
    {
      "cell_type": "code",
      "execution_count": null,
      "metadata": {
        "id": "Vxtp79so4ZjF"
      },
      "outputs": [],
      "source": [
        "target = new_client.target\n",
        "target_query = target.search('CHEMBL4895')\n",
        "targets = pd.DataFrame.from_dict(target_query)\n",
        "targets"
      ]
    },
    {
      "cell_type": "markdown",
      "metadata": {
        "id": "Y5OPfEALjAfZ"
      },
      "source": [
        "### Select and retrieve bioactivity data for Tyrosine-ABL-kinase"
      ]
    },
    {
      "cell_type": "code",
      "execution_count": null,
      "metadata": {
        "id": "StrcHMVLha7u"
      },
      "outputs": [],
      "source": [
        "selected_target = targets.target_chembl_id[0]\n",
        "selected_target"
      ]
    },
    {
      "cell_type": "markdown",
      "metadata": {
        "id": "GWd2DRalgjzB"
      },
      "source": [
        "Here, we will retrieve only bioactivity data for *ABL kinase* (CHEMBL1862) that are reported as IC$_{50}$ values in nM (nanomolar) unit."
      ]
    },
    {
      "cell_type": "markdown",
      "metadata": {
        "id": "Y4txHAVkL2tt"
      },
      "source": [
        "### Extracting IC50 data"
      ]
    },
    {
      "cell_type": "code",
      "execution_count": null,
      "metadata": {
        "id": "LeFbV_CsSP8D"
      },
      "outputs": [],
      "source": [
        "activity = new_client.activity\n",
        "res = activity.filter(target_chembl_id=selected_target).filter(standard_type=\"IC50\")"
      ]
    },
    {
      "cell_type": "markdown",
      "metadata": {
        "id": "mFyR40-JL2tt"
      },
      "source": [
        "### Converting data to dataframe"
      ]
    },
    {
      "cell_type": "code",
      "execution_count": null,
      "metadata": {
        "id": "RC4T-NEmSWV-"
      },
      "outputs": [],
      "source": [
        "df = pd.DataFrame.from_dict(res)\n",
        "df.head(3)"
      ]
    },
    {
      "cell_type": "code",
      "execution_count": null,
      "metadata": {
        "id": "oNtBv36dYhxy"
      },
      "outputs": [],
      "source": [
        "df.standard_type.unique()"
      ]
    },
    {
      "cell_type": "markdown",
      "metadata": {
        "id": "_GXMpFNUOn_8"
      },
      "source": [
        "## Handling missing data\n",
        "If any compounds has missing value for the **standard_value** column then drop it"
      ]
    },
    {
      "cell_type": "code",
      "execution_count": null,
      "metadata": {
        "id": "hkVOdk6ZR396"
      },
      "outputs": [],
      "source": [
        "df = df[df.standard_value.notna()]"
      ]
    },
    {
      "cell_type": "markdown",
      "metadata": {
        "id": "Y-qNsUlmjS25"
      },
      "source": [
        "Apparently, for this dataset there is no missing data. But we can use the above code cell for bioactivity data of other target protein."
      ]
    },
    {
      "cell_type": "markdown",
      "metadata": {
        "id": "5H4sSFAWhV9B"
      },
      "source": [
        "## Data pre-processing of the bioactivity data"
      ]
    },
    {
      "cell_type": "markdown",
      "metadata": {
        "id": "tO22XVlzhkXR"
      },
      "source": [
        "### Labeling compounds as either being active, inactive or intermediate\n",
        "The bioactivity data is in the IC50 unit. Compounds having values of less than 1000 nM will be considered to be **active** while those greater than 10,000 nM will be considered to be **inactive**. As for those values in between 1,000 and 10,000 nM will be referred to as **intermediate**. "
      ]
    },
    {
      "cell_type": "code",
      "execution_count": null,
      "metadata": {
        "id": "1E8rz7oMOd-5"
      },
      "outputs": [],
      "source": [
        "df['standard_value'] = df['standard_value'].astype(float)\n",
        "df['bioactivity_class'] = df['standard_value'].map(lambda x : 'active' if x <= 1000 else ('inactive' if x >=10000 else 'intermediate'))"
      ]
    },
    {
      "cell_type": "code",
      "execution_count": null,
      "metadata": {
        "id": "VICiiCtqc2ne"
      },
      "outputs": [],
      "source": [
        "selection = ['molecule_chembl_id', 'canonical_smiles', 'standard_value','bioactivity_class']\n",
        "df = df[selection]\n",
        "df.head(5)"
      ]
    },
    {
      "cell_type": "markdown",
      "metadata": {
        "id": "ZywB5K_Dlawb"
      },
      "source": [
        "df.canonical_smiles.replace('nan',np.nan, inplace=True)\n",
        "df.dropna(inplace=True)\n",
        "df.reset_index(inplace=True)"
      ]
    },
    {
      "cell_type": "code",
      "execution_count": null,
      "metadata": {
        "id": "fZDd7WdVL2tv"
      },
      "outputs": [],
      "source": [
        "'''\n",
        "function to estimate molecule Lipinski descriptors\n",
        "\n",
        "'''\n",
        "\n",
        "def lipinski(smiles, verbose=False):\n",
        "    moldata= []\n",
        "    problematic_smiles=[]\n",
        "    for i,elem in enumerate(smiles):\n",
        "        try:\n",
        "            mol=Chem.MolFromSmiles(elem) \n",
        "            mol = rdMolStandardize.Cleanup(mol)\n",
        "            moldata.append(mol)  \n",
        "        except:\n",
        "            problematic_smiles.append(i)\n",
        "            pass\n",
        "    baseData= np.arange(1,1)\n",
        "    i=0  \n",
        "    for mol in moldata:        \n",
        "        desc_MolWt = Descriptors.MolWt(mol)\n",
        "        desc_MolLogP = Descriptors.MolLogP(mol)\n",
        "        desc_NumHDonors = Lipinski.NumHDonors(mol)\n",
        "        desc_NumHAcceptors = Lipinski.NumHAcceptors(mol)\n",
        "           \n",
        "        row = np.array([desc_MolWt,\n",
        "                        desc_MolLogP,\n",
        "                        desc_NumHDonors,\n",
        "                        desc_NumHAcceptors])   \n",
        "    \n",
        "        if(i==0):\n",
        "            baseData=row\n",
        "        else:\n",
        "            baseData=np.vstack([baseData, row])\n",
        "        i=i+1      \n",
        "    \n",
        "    columnNames=[\"MW\",\"LogP\",\"NumHDonors\",\"NumHAcceptors\"]   \n",
        "    descriptors = pd.DataFrame(data=baseData,columns=columnNames)\n",
        "    \n",
        "    return  descriptors,problematic_smiles"
      ]
    },
    {
      "cell_type": "code",
      "execution_count": null,
      "metadata": {
        "scrolled": false,
        "id": "A5-f_7a9L2tw"
      },
      "outputs": [],
      "source": [
        "df_lipinski, problematic_smiles = lipinski(df.canonical_smiles)"
      ]
    },
    {
      "cell_type": "code",
      "execution_count": null,
      "metadata": {
        "id": "biXlbav7L2tw"
      },
      "outputs": [],
      "source": [
        "df_lipinski.head(10).style.background_gradient()"
      ]
    },
    {
      "cell_type": "code",
      "execution_count": null,
      "metadata": {
        "id": "ZEdDRxPZL2tw"
      },
      "outputs": [],
      "source": [
        "df = pd.concat([df,df_lipinski], axis=1)"
      ]
    },
    {
      "cell_type": "markdown",
      "metadata": {
        "id": "kl9LsOSrL2tw"
      },
      "source": [
        "### Convert IC50 to pIC50\n",
        "To allow **IC50** data to be more uniformly distributed, we will convert **IC50** to the negative logarithmic scale which is essentially **-log10(IC50)**.\n",
        "\n",
        "This custom function pIC50() will accept a DataFrame as input and will:\n",
        "* Take the IC50 values from the ``standard_value`` column and converts it from nM to M by multiplying the value by 10$^{-9}$\n",
        "* Take the molar value and apply -log10\n",
        "* Delete the ``standard_value`` column and create a new ``pIC50`` column"
      ]
    },
    {
      "cell_type": "code",
      "execution_count": null,
      "metadata": {
        "id": "VgRspWlfL2tw"
      },
      "outputs": [],
      "source": [
        "def pIC50(i):\n",
        "    molar = i*(10**-9) # Converts nM to M\n",
        "    pIC50 = -np.log10(molar)\n",
        "    return pIC50"
      ]
    },
    {
      "cell_type": "markdown",
      "metadata": {
        "id": "AEaufsJkL2tw"
      },
      "source": [
        "Point to note: Values greater than 100,000,000 will be fixed at 100,000,000 otherwise the negative logarithmic value will become negative."
      ]
    },
    {
      "cell_type": "code",
      "execution_count": null,
      "metadata": {
        "id": "kkvhFjBZL2tw"
      },
      "outputs": [],
      "source": [
        "df.standard_value.describe()"
      ]
    },
    {
      "cell_type": "code",
      "execution_count": null,
      "metadata": {
        "id": "haqk6u6nL2tx"
      },
      "outputs": [],
      "source": [
        "df['norm_value'] = df['standard_value'].map(lambda x: 100000000 if x> 100000000 else x)\n",
        "df['pIC50'] = df['norm_value'].map(pIC50)"
      ]
    },
    {
      "cell_type": "markdown",
      "metadata": {
        "id": "lmyJ-z5gL2tx"
      },
      "source": [
        "### Removing the 'intermediate' bioactivity class\n",
        "Here, we will be removing the ``intermediate`` class from our data set."
      ]
    },
    {
      "cell_type": "code",
      "execution_count": null,
      "metadata": {
        "id": "g1wvfCVVL2tx"
      },
      "outputs": [],
      "source": [
        "df = df[df['bioactivity_class'] != 'intermediate']"
      ]
    },
    {
      "cell_type": "code",
      "execution_count": null,
      "metadata": {
        "id": "0vHP8j9CL2tx"
      },
      "outputs": [],
      "source": [
        "df['bioactivity_class'].value_counts()"
      ]
    },
    {
      "cell_type": "markdown",
      "metadata": {
        "id": "F-T8s7xOL2tx"
      },
      "source": [
        "## Exploratory Data Analysis (Chemical Space Analysis) via Lipinski descriptors"
      ]
    },
    {
      "cell_type": "code",
      "execution_count": null,
      "metadata": {
        "id": "cTYHPSgUL2tx"
      },
      "outputs": [],
      "source": [
        "plt.figure(figsize=(6.5, 8.5))\n",
        "\n",
        "sns.countplot(x='bioactivity_class', data=df)\n",
        "plt.xlabel('Bioactivity class', size=20, fontweight='bold')\n",
        "plt.ylabel('Frequency', fontsize=20, fontweight='bold')\n",
        "plt.xticks(size=15)\n",
        "plt.yticks(size=15)\n",
        "sns.set(style='ticks')\n",
        "sns.despine(top=True)\n",
        "plt.tight_layout()\n",
        "plt.savefig('plot_bioactivity_class.png')"
      ]
    },
    {
      "cell_type": "markdown",
      "metadata": {
        "id": "iXJTgm9pL2ty"
      },
      "source": [
        "### Pairplot of the features\n",
        "\n",
        "It can be seen that the 2 bioactivity classes are spanning similar chemical spaces as evident by the scatter plot of MW vs LogP."
      ]
    },
    {
      "cell_type": "code",
      "execution_count": null,
      "metadata": {
        "id": "CmH-P1D0L2ty"
      },
      "outputs": [],
      "source": [
        "selection = ['bioactivity_class','MW','LogP','NumHDonors','NumHAcceptors','pIC50']\n",
        "sns.pairplot(df[selection], hue='bioactivity_class')\n",
        "plt.tight_layout()\n",
        "plt.savefig('Pairplot.png',dpi=300)"
      ]
    },
    {
      "cell_type": "markdown",
      "metadata": {
        "id": "UIz_Qn3zL2ty"
      },
      "source": [
        "### Boxplot of pIC50"
      ]
    },
    {
      "cell_type": "code",
      "execution_count": null,
      "metadata": {
        "id": "UNEjaHfkL2ty"
      },
      "outputs": [],
      "source": [
        "fig = plt.figure(figsize=(7,5))\n",
        "sns.boxplot(x='bioactivity_class', y='pIC50', data = df)\n",
        "plt.xlabel('Bioactivity class', size=20, fontweight='bold')\n",
        "plt.ylabel('pIC50', size=20, fontweight='bold')\n",
        "plt.xticks(size=15)\n",
        "plt.yticks(size=15)\n",
        "sns.despine(top=True, left=True)\n",
        "plt.savefig('boxplot_pIC50.png',dpi=300);"
      ]
    },
    {
      "cell_type": "markdown",
      "metadata": {
        "id": "JPDoqBDXL2ty"
      },
      "source": [
        "### Boxplot of Lipinksi descriptors"
      ]
    },
    {
      "cell_type": "code",
      "execution_count": null,
      "metadata": {
        "id": "73RwBf8KL2ty"
      },
      "outputs": [],
      "source": [
        "fig = plt.figure(figsize=(12,10))\n",
        "fig.subplots_adjust(hspace=0.5,wspace=0.5)\n",
        "fig.add_subplot(2,2,1)\n",
        "sns.boxplot(x='bioactivity_class', y='NumHAcceptors', data = df)\n",
        "plt.xlabel('Bioactivity class', size=20, fontweight='bold')\n",
        "plt.ylabel('NumHAcceptors', size=20, fontweight='bold')\n",
        "plt.xticks(size=15)\n",
        "plt.yticks(size=15)\n",
        "\n",
        "fig.add_subplot(2,2,2)\n",
        "sns.boxplot(x='bioactivity_class', y='MW', data = df)\n",
        "plt.xlabel('Bioactivity class', size=20, fontweight='bold')\n",
        "plt.ylabel('Molecular Weight', size=20, fontweight='bold')\n",
        "plt.xticks(size=15)\n",
        "plt.yticks(size=15)\n",
        "\n",
        "fig.add_subplot(2,2,3)\n",
        "sns.boxplot(x='bioactivity_class', y='LogP', data = df)\n",
        "plt.xlabel('Bioactivity class', size=20, fontweight='bold')\n",
        "plt.ylabel('LogP', size=20, fontweight='bold')\n",
        "plt.xticks(size=15)\n",
        "plt.yticks(size=15)\n",
        "\n",
        "fig.add_subplot(2,2,4)\n",
        "sns.boxplot(x='bioactivity_class', y='NumHDonors', data = df)\n",
        "plt.xlabel('Bioactivity class', size=20, fontweight='bold')\n",
        "plt.ylabel('NumHDonors', size=20, fontweight='bold')\n",
        "plt.xticks(size=15)\n",
        "plt.yticks(size=15)\n",
        "\n",
        "sns.despine(top=True, left=True)\n",
        "plt.savefig('boxplot_lipinksi_descriptors.png',dpi=300);"
      ]
    },
    {
      "cell_type": "code",
      "execution_count": null,
      "metadata": {
        "id": "SBrnqr1dL2tz"
      },
      "outputs": [],
      "source": [
        "df.to_csv('axl.csv')"
      ]
    },
    {
      "cell_type": "markdown",
      "metadata": {
        "id": "T23e8yYkL2tz"
      },
      "source": [
        "## Conclusion"
      ]
    },
    {
      "cell_type": "markdown",
      "metadata": {
        "id": "7KCP2OQqL2tz"
      },
      "source": [
        "Taking a look at pIC50 values, the **actives** and **inactives** displayed ***statistically significant difference***, which is to be expected since threshold values (``IC50 < 1,000 nM = Actives while IC50 > 10,000 nM = Inactives``, corresponding to ``pIC50 > 6 = Actives and pIC50 < 5 = Inactives``) were used to define actives and inactives.\n",
        "\n",
        "\n",
        "All of the 4 Lipinski's descriptors exhibited ***statistically significant difference*** between the **actives** and **inactives**."
      ]
    },
    {
      "cell_type": "markdown",
      "metadata": {
        "id": "hJerDvaBMl6d"
      },
      "source": [
        "## importing the libraries"
      ]
    },
    {
      "cell_type": "code",
      "source": [
        "import pandas as pd\n",
        "import numpy as np\n",
        "import seaborn as sns\n",
        "import matplotlib.pyplot as plt\n",
        "# from sklearn.preprocessing import LabelBinarizer\n",
        "# from sklearn.model_selection import train_test_split\n",
        "# from sklearn.neighbors import KNeighborsClassifier\n",
        "# from sklearn.linear_model import LogisticRegression\n",
        "# from sklearn.tree import DecisionTreeClassifier\n",
        "# from sklearn.ensemble import RandomForestClassifier\n",
        "# from sklearn.ensemble import GradientBoostingClassifier\n",
        "# from sklearn.neural_network import MLPClassifier\n",
        "# from sklearn.preprocessing import MinMaxScaler\n",
        "# from sklearn.preprocessing import StandardScaler\n",
        "# from imblearn.over_sampling import SMOTE\n",
        "# from xgboost import XGBClassifier\n",
        "# from sklearn.svm import SVC\n",
        "# from sklearn.model_selection import cross_val_score\n",
        "# from sklearn.metrics import accuracy_score, f1_score, precision_score, recall_score, confusion_matrix\n",
        "\n",
        "\n",
        "%matplotlib inline"
      ],
      "metadata": {
        "id": "R7v6YqOSNWAa"
      },
      "execution_count": null,
      "outputs": []
    },
    {
      "cell_type": "markdown",
      "metadata": {
        "id": "VSj5E74eNB9o"
      },
      "source": [
        "## Reading the data"
      ]
    },
    {
      "cell_type": "markdown",
      "metadata": {
        "id": "4u15GnIKM9Ri"
      },
      "source": [
        "## Pearson correlation and feature selection"
      ]
    },
    {
      "cell_type": "code",
      "source": [
        "plt.figure(figsize=(10,7))\n",
        "corr_mat = df.iloc[:,:-1].corr()\n",
        "sns.heatmap(corr_mat, fmt='0.2f', annot=True, lw=2, cbar_kws={'label':'Pearson Correlation (r)'})\n",
        "plt.xticks(size=15,rotation=90)\n",
        "plt.yticks(size=15,rotation=0)\n",
        "plt.tight_layout()\n",
        "plt.savefig('Correlation.png',dpi=300);"
      ],
      "metadata": {
        "id": "vIYNhE-qORy5"
      },
      "execution_count": null,
      "outputs": []
    },
    {
      "cell_type": "markdown",
      "metadata": {
        "id": "62NlvT3cM9YG"
      },
      "source": [
        "## Preparing data for machine learning"
      ]
    },
    {
      "cell_type": "code",
      "source": [
        "# df['bioactivity_class'] = df['bioactivity_class'].map({'inactive':0, 'active':1})"
      ],
      "metadata": {
        "id": "bvPj-46mOkuC"
      },
      "execution_count": null,
      "outputs": []
    },
    {
      "cell_type": "markdown",
      "metadata": {
        "id": "EXU_kGRXM9ei"
      },
      "source": [
        "## Pycaret\n"
      ]
    },
    {
      "cell_type": "code",
      "source": [
        "! pip install --pre pycaret"
      ],
      "metadata": {
        "id": "eoH2_x-_O2Ri"
      },
      "execution_count": null,
      "outputs": []
    },
    {
      "cell_type": "code",
      "source": [
        "! pip install pycaret[models]"
      ],
      "metadata": {
        "id": "8H0uMsq5XdgH"
      },
      "execution_count": null,
      "outputs": []
    },
    {
      "cell_type": "code",
      "source": [
        "# from pycaret.utils import enable_colab\n",
        "# enable_colab()"
      ],
      "metadata": {
        "id": "ToAKWZarTKR1"
      },
      "execution_count": null,
      "outputs": []
    },
    {
      "cell_type": "code",
      "source": [
        "from pycaret.classification import *"
      ],
      "metadata": {
        "id": "klYEBv3ZTYKd"
      },
      "execution_count": null,
      "outputs": []
    },
    {
      "cell_type": "code",
      "source": [
        "df.head(5)"
      ],
      "metadata": {
        "id": "QoKZhSLqTwrd"
      },
      "execution_count": null,
      "outputs": []
    },
    {
      "cell_type": "code",
      "source": [
        "df=df.dropna(subset=['bioactivity_class'])"
      ],
      "metadata": {
        "id": "6OcbChnTWhl-"
      },
      "execution_count": null,
      "outputs": []
    },
    {
      "cell_type": "code",
      "source": [
        "df = df.drop(['molecule_chembl_id','canonical_smiles','standard_value', 'pIC50'], axis=1)"
      ],
      "metadata": {
        "id": "ztd-7cwibr6Z"
      },
      "execution_count": null,
      "outputs": []
    },
    {
      "cell_type": "code",
      "source": [
        "df.head()"
      ],
      "metadata": {
        "id": "dcGzWSU6cL_x"
      },
      "execution_count": null,
      "outputs": []
    },
    {
      "cell_type": "code",
      "source": [
        "clf = setup(data = df, \n",
        "             target = 'bioactivity_class',\n",
        "            session_id=123)"
      ],
      "metadata": {
        "id": "vMnXrk0JTZcd"
      },
      "execution_count": null,
      "outputs": []
    },
    {
      "cell_type": "code",
      "source": [
        "top5 = compare_models(n_select = 5)"
      ],
      "metadata": {
        "id": "QOe4mxwkZn0p"
      },
      "execution_count": null,
      "outputs": []
    },
    {
      "cell_type": "code",
      "source": [
        "evaluate_model(top5)"
      ],
      "metadata": {
        "id": "15Nba4D1Z_Fh"
      },
      "execution_count": null,
      "outputs": []
    }
  ],
  "metadata": {
    "colab": {
      "collapsed_sections": [],
      "provenance": [],
      "include_colab_link": true
    },
    "kernelspec": {
      "display_name": "Python 3",
      "language": "python",
      "name": "python3"
    },
    "language_info": {
      "codemirror_mode": {
        "name": "ipython",
        "version": 3
      },
      "file_extension": ".py",
      "mimetype": "text/x-python",
      "name": "python",
      "nbconvert_exporter": "python",
      "pygments_lexer": "ipython3",
      "version": "3.7.4"
    },
    "toc": {
      "base_numbering": 1,
      "nav_menu": {},
      "number_sections": true,
      "sideBar": true,
      "skip_h1_title": false,
      "title_cell": "Table of Contents",
      "title_sidebar": "Contents",
      "toc_cell": true,
      "toc_position": {
        "height": "calc(100% - 180px)",
        "left": "10px",
        "top": "150px",
        "width": "288px"
      },
      "toc_section_display": true,
      "toc_window_display": true
    }
  },
  "nbformat": 4,
  "nbformat_minor": 0
}